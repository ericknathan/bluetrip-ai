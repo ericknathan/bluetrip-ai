{
  "cells": [
    {
      "cell_type": "markdown",
      "metadata": {
        "id": "Gebplt2hqlt4"
      },
      "source": [
        "# 🔱 Bluetrip\n",
        "\n",
        "## 💡 Explicação do projeto\n",
        "O Bluetrip é uma aplicação móvel de turismo focada em oceanos, rios e lagos. Seu objetivo é fornecer aos usuários informações detalhadas e interativas sobre pontos turísticos aquáticos, eventos, comércios locais e espécies marinhas. A aplicação inclui um scanner inovador de QRCode que permite aos usuários renderizar modelos 3D de espécies ou partes específicas de pontos turísticos, acompanhados de informações relevantes, enriquecendo a experiência de exploração e aprendizado. Além disso também disponibiliza um Scanner de espécies\n",
        "\n",
        "## 👥 Equipe\n",
        "Este projeto está sendo desenvolvido pelos seguintes membros:\n",
        "\n",
        "- RM98110 - André Rohregger Machado (2TDSPV)\n",
        "- RM99565 - Erick Nathan Capito Pereira (2TDSPV)\n",
        "- RM550841 - Lucas Araujo Oliveira Silva (2TDSPW)\n",
        "- RM551886 - Victor Luca do Nascimento Queiroz (2TDSPV)\n",
        "- RM99455 - Vinícius Martins Torres Abdala (2TDSPV)\n",
        "\n",
        "## 🎲 Datasets utilizados\n",
        "\n",
        "- https://www.kaggle.com/datasets/larusso94/shark-species\n",
        "- https://www.kaggle.com/datasets/markdaniellampa/fish-dataset?resource=download-directory\n",
        "\n",
        "## 🔢 Classe de dados\n",
        "\n",
        "### Tubarões\n",
        "- Tubarão-peregrino\n",
        "- Tubarão-de-ponta-preta\n",
        "- Tubarão-azul\n",
        "- Tubarão-touro\n",
        "- Tubarão-martelo\n",
        "- Tubarão-limão\n",
        "- Tubarão-mako\n",
        "- Tubarão-enfermeiro\n",
        "- Tubarão-tigre-da-areia\n",
        "- Tubarão-raposa\n",
        "- Tubarão-tigre\n",
        "- Tubarão-baleia\n",
        "- Tubarão-branco\n",
        "- Tubarão-de-ponta-branca\n",
        "\n",
        "### Peixes\n",
        "- Bangus\n",
        "- Carpa Cabeçuda\n",
        "- Barbo Manchada\n",
        "- Bagre\n",
        "- Percha Trepadeira\n",
        "- Barbudo-de-Quatro-Dedos\n",
        "- Enguia de Água Doce\n",
        "- Percaleta de Vidro\n",
        "- Gobídeo\n",
        "- Peixe Dourado\n",
        "- Gurami\n",
        "- Carpa Herbívora\n",
        "- Baiacu Verde de Pontos\n",
        "- Carpa Indiana\n",
        "- Tarpão Indo-Pacífico\n",
        "- Jaguarete\n",
        "- Peixe-Lixeiro\n",
        "- Peixe-Faca\n",
        "- Peixe-Cachimbo de Focinho Longo\n",
        "- Peixe-Mosquito\n",
        "- Peixe-Lama\n",
        "- Tainha\n",
        "- Pangácio\n",
        "- Perca\n",
        "- Peixe-Scat\n",
        "- Barbo Prateado\n",
        "- Carpa Prateada\n",
        "- Perca Prateada\n",
        "- Cabeça-de-Cobra\n",
        "- Pampo\n",
        "- Tilápia"
      ]
    },
    {
      "cell_type": "markdown",
      "metadata": {
        "id": "9i5htof-Bo30"
      },
      "source": [
        "## Importações"
      ]
    },
    {
      "cell_type": "code",
      "execution_count": 1,
      "metadata": {
        "colab": {
          "base_uri": "https://localhost:8080/",
          "height": 366
        },
        "id": "UCtgte1YBSMC",
        "outputId": "4a839252-d334-4a70-84f7-ceeded942bff"
      },
      "outputs": [
        {
          "name": "stdout",
          "output_type": "stream",
          "text": [
            "WARNING:tensorflow:From C:\\Users\\erick\\AppData\\Local\\Packages\\PythonSoftwareFoundation.Python.3.11_qbz5n2kfra8p0\\LocalCache\\local-packages\\Python311\\site-packages\\keras\\src\\losses.py:2976: The name tf.losses.sparse_softmax_cross_entropy is deprecated. Please use tf.compat.v1.losses.sparse_softmax_cross_entropy instead.\n",
            "\n"
          ]
        }
      ],
      "source": [
        "import io\n",
        "\n",
        "from keras.models import load_model\n",
        "from PIL import Image, ImageOps\n",
        "import numpy as np\n",
        "from typing import Annotated\n",
        "\n",
        "from fastapi import FastAPI, File\n",
        "from fastapi.middleware.cors import CORSMiddleware\n",
        "\n",
        "import uvicorn"
      ]
    },
    {
      "cell_type": "markdown",
      "metadata": {
        "id": "bYLMJsgDBys5"
      },
      "source": [
        "## Carregamento do modelo gerado pelo Teachable Machine e processo de Labelling"
      ]
    },
    {
      "cell_type": "code",
      "execution_count": 2,
      "metadata": {
        "id": "xcfmdaSIBeTB"
      },
      "outputs": [
        {
          "name": "stdout",
          "output_type": "stream",
          "text": [
            "WARNING:tensorflow:From C:\\Users\\erick\\AppData\\Local\\Packages\\PythonSoftwareFoundation.Python.3.11_qbz5n2kfra8p0\\LocalCache\\local-packages\\Python311\\site-packages\\keras\\src\\backend.py:1398: The name tf.executing_eagerly_outside_functions is deprecated. Please use tf.compat.v1.executing_eagerly_outside_functions instead.\n",
            "\n",
            "WARNING:tensorflow:From C:\\Users\\erick\\AppData\\Local\\Packages\\PythonSoftwareFoundation.Python.3.11_qbz5n2kfra8p0\\LocalCache\\local-packages\\Python311\\site-packages\\keras\\src\\layers\\normalization\\batch_normalization.py:979: The name tf.nn.fused_batch_norm is deprecated. Please use tf.compat.v1.nn.fused_batch_norm instead.\n",
            "\n"
          ]
        }
      ],
      "source": [
        "model = load_model(\"./model/keras_model.h5\", compile=False)"
      ]
    },
    {
      "cell_type": "code",
      "execution_count": 3,
      "metadata": {
        "id": "e-1VcmIIBfoK"
      },
      "outputs": [],
      "source": [
        "class_names = open(\"./model/labels.txt\", \"r\", encoding=\"utf8\").readlines()"
      ]
    },
    {
      "cell_type": "markdown",
      "metadata": {
        "id": "DbhxuH8eCC-Z"
      },
      "source": [
        "## Importação e configuração da imagem de teste"
      ]
    },
    {
      "cell_type": "code",
      "execution_count": 4,
      "metadata": {
        "id": "_GTcr8FMBiPs"
      },
      "outputs": [],
      "source": [
        "image = Image.open(\"./test/dourado.jpeg\").convert(\"RGB\")\n",
        "\n",
        "size = (224, 224)\n",
        "image = ImageOps.fit(image, size, Image.Resampling.LANCZOS)\n",
        "\n",
        "image_array = np.asarray(image)\n",
        "normalized_image_array = (image_array.astype(np.float32) / 127.5) - 1\n",
        "\n",
        "data = np.ndarray(shape=(1, 224, 224, 3), dtype=np.float32)\n",
        "data[0] = normalized_image_array"
      ]
    },
    {
      "cell_type": "markdown",
      "metadata": {
        "id": "Fwm67fyECTvS"
      },
      "source": [
        "## Realiza a predição do modelo"
      ]
    },
    {
      "cell_type": "code",
      "execution_count": 5,
      "metadata": {
        "id": "Gn0XcHlJBm6c"
      },
      "outputs": [
        {
          "name": "stdout",
          "output_type": "stream",
          "text": [
            "1/1 [==============================] - 1s 697ms/step\n"
          ]
        }
      ],
      "source": [
        "prediction = model.predict(data)\n",
        "index = np.argmax(prediction)\n",
        "class_name = class_names[index]\n",
        "confidence_score = prediction[0][index]"
      ]
    },
    {
      "cell_type": "code",
      "execution_count": 6,
      "metadata": {
        "id": "9RJbT306Bn8c"
      },
      "outputs": [
        {
          "name": "stdout",
          "output_type": "stream",
          "text": [
            "A espécie marinha da imagem escolhida é 'Peixe Dourado' com uma confiança de 100.0%\n"
          ]
        }
      ],
      "source": [
        "print(f\"A espécie marinha da imagem escolhida é '{class_name[2:].strip()}' com uma confiança de {round(confidence_score * 100, 3)}%\")"
      ]
    },
    {
      "cell_type": "markdown",
      "metadata": {
        "id": "jTsnU8MBNooF"
      },
      "source": [
        "## Instanciando o FastAPI"
      ]
    },
    {
      "cell_type": "code",
      "execution_count": 7,
      "metadata": {},
      "outputs": [],
      "source": [
        "app = FastAPI()\n",
        "\n",
        "app.add_middleware(\n",
        "    CORSMiddleware,\n",
        "    allow_origins=[\"*\"],\n",
        "    allow_credentials=True,\n",
        "    allow_methods=[\"*\"],\n",
        "    allow_headers=[\"*\"],\n",
        ")"
      ]
    },
    {
      "cell_type": "markdown",
      "metadata": {},
      "source": [
        "## Criação das rotas para conexão com o front-end"
      ]
    },
    {
      "cell_type": "markdown",
      "metadata": {},
      "source": [
        "### Rota de status para verificar se a aplicação está sendo executada\n",
        "#### [GET] /status"
      ]
    },
    {
      "cell_type": "code",
      "execution_count": 8,
      "metadata": {
        "id": "omUYIR89N5Tp"
      },
      "outputs": [],
      "source": [
        "@app.get(\"/status\")\n",
        "async def app_status():\n",
        "    return 'ok'"
      ]
    },
    {
      "cell_type": "markdown",
      "metadata": {},
      "source": [
        "### Rota para predição de imagem enviada no corpo da requisição\n",
        "#### [POST] /identify-specie - file: File"
      ]
    },
    {
      "cell_type": "code",
      "execution_count": 9,
      "metadata": {},
      "outputs": [],
      "source": [
        "@app.post(\"/identify-specie\")\n",
        "async def identify_specie(file: Annotated[bytes, File()]):\n",
        "    image = Image.open(io.BytesIO(file)).convert(\"RGB\")\n",
        "\n",
        "    size = (224, 224)\n",
        "    image = ImageOps.fit(image, size, Image.Resampling.LANCZOS)\n",
        "\n",
        "    image_array = np.asarray(image)\n",
        "    normalized_image_array = (image_array.astype(np.float32) / 127.5) - 1\n",
        "\n",
        "    data = np.ndarray(shape=(1, 224, 224, 3), dtype=np.float32)\n",
        "    data[0] = normalized_image_array\n",
        "\n",
        "    prediction = model.predict(data)\n",
        "    index = np.argmax(prediction)\n",
        "    class_name = class_names[index]\n",
        "    confidence_score = prediction[0][index]\n",
        "\n",
        "    return {\n",
        "        \"specie_name\": class_name[2:].strip(),\n",
        "        \"confidence_score\": round(confidence_score * 100, 3)\n",
        "    }"
      ]
    },
    {
      "cell_type": "markdown",
      "metadata": {},
      "source": [
        "## Execução do servidor HTTP do FastAPI utilizando Uvicorn"
      ]
    },
    {
      "cell_type": "code",
      "execution_count": 12,
      "metadata": {},
      "outputs": [
        {
          "name": "stderr",
          "output_type": "stream",
          "text": [
            "INFO:     Will watch for changes in these directories: ['d:\\\\projects\\\\courses\\\\fiap\\\\global-solution\\\\ai']\n",
            "INFO:     Uvicorn running on http://127.0.0.1:8000 (Press CTRL+C to quit)\n",
            "INFO:     Started reloader process [11980] using WatchFiles\n",
            "INFO:     Stopping reloader process [11980]\n"
          ]
        }
      ],
      "source": [
        "if __name__ == \"__main__\":\n",
        "    uvicorn.run(\"app:app\", host=\"127.0.0.1\", port=8000, reload=True)"
      ]
    }
  ],
  "metadata": {
    "colab": {
      "provenance": []
    },
    "kernelspec": {
      "display_name": "Python 3",
      "name": "python3"
    },
    "language_info": {
      "codemirror_mode": {
        "name": "ipython",
        "version": 3
      },
      "file_extension": ".py",
      "mimetype": "text/x-python",
      "name": "python",
      "nbconvert_exporter": "python",
      "pygments_lexer": "ipython3",
      "version": "3.11.9"
    }
  },
  "nbformat": 4,
  "nbformat_minor": 0
}
